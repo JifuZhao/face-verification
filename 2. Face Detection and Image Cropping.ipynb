{
 "cells": [
  {
   "cell_type": "code",
   "execution_count": 6,
   "metadata": {},
   "outputs": [],
   "source": [
    "import warnings\n",
    "warnings.simplefilter('ignore')\n",
    "\n",
    "import matplotlib.pyplot as plt\n",
    "import numpy as np\n",
    "import pandas as pd\n",
    "import cv2 as cv\n",
    "import os\n",
    "from skimage import io\n",
    "from face_verification.utils import *\n",
    "from face_verification.api import *\n",
    "\n",
    "%matplotlib inline"
   ]
  },
  {
   "cell_type": "markdown",
   "metadata": {},
   "source": [
    "# Image Reading and Cropping"
   ]
  },
  {
   "cell_type": "markdown",
   "metadata": {},
   "source": [
    "### LFW Dataset"
   ]
  },
  {
   "cell_type": "code",
   "execution_count": 2,
   "metadata": {},
   "outputs": [],
   "source": [
    "# lfw dataset\n",
    "haar_xml='./face_verification/xmls/haarcascade_frontalface_default.xml'\n",
    "from_folder = './images/lfw/'\n",
    "to_folder = './images/lfw_face/'\n",
    "\n",
    "lfw_paths = []\n",
    "lfw_names = []\n",
    "lfw_error_paths = []\n",
    "\n",
    "folder_list = sorted(os.listdir(from_folder))\n",
    "for folder in folder_list:\n",
    "    try:\n",
    "        os.listdir(from_folder + folder + '/')\n",
    "    except:\n",
    "        continue\n",
    "        \n",
    "    # check the existance of folder\n",
    "    if not os.path.exists(to_folder + folder):\n",
    "        os.mkdir(to_folder + folder)\n",
    "        \n",
    "    # load image paths\n",
    "    image_list = os.listdir(from_folder + folder + '/')\n",
    "    for image_name in image_list:\n",
    "        from_path = from_folder + folder + '/' + image_name\n",
    "        to_path = to_folder + folder + '/' + image_name\n",
    "        image = read_image(from_path)\n",
    "        \n",
    "        # face detection\n",
    "        try:\n",
    "            faces = cascade_detector(image, xml=haar_xml, scale_factor=1.3, \n",
    "                                     min_neighbors=5)\n",
    "        except:\n",
    "            lfw_error_paths.append(from_path)\n",
    "            continue\n",
    "        \n",
    "        # crop face areas\n",
    "        crop = crop_face(image, faces, scale_factor=1.3, target_size=(256, 256))\n",
    "        crop_rgb = BGR2RGB(crop)\n",
    "        \n",
    "        # save image\n",
    "        io.imsave(to_path, crop_rgb)\n",
    "        lfw_paths.append(to_path)\n",
    "        lfw_names.append(folder)"
   ]
  },
  {
   "cell_type": "code",
   "execution_count": 15,
   "metadata": {},
   "outputs": [
    {
     "name": "stdout",
     "output_type": "stream",
     "text": [
      "Correct images:\t 11986\n",
      "Error images:\t 1247\n"
     ]
    }
   ],
   "source": [
    "print('Correct images:\\t', len(lfw_df))\n",
    "print('Error images:\\t', len(lfw_error_paths))\n",
    "\n",
    "# save results\n",
    "np.save('./images/lfw_error.npy', lfw_error_paths)\n",
    "\n",
    "maps = {'name': lfw_names, 'path': lfw_paths}\n",
    "lfw_df = pd.DataFrame(maps, columns=['name', 'path'])\n",
    "lfw_df.to_csv('./images/lfw_path.csv', index=False)"
   ]
  },
  {
   "cell_type": "markdown",
   "metadata": {},
   "source": [
    "### VGG2 Dataset"
   ]
  },
  {
   "cell_type": "code",
   "execution_count": 20,
   "metadata": {},
   "outputs": [],
   "source": [
    "# VGG2 training set\n",
    "haar_xml='./face_verification/xmls/haarcascade_frontalface_default.xml'\n",
    "from_folder = './images/vgg2/train/'\n",
    "to_folder = './images/vgg2_face/train/'\n",
    "\n",
    "vgg2_train_paths = []\n",
    "vgg2_train_names = []\n",
    "vgg2_train_error_paths = []\n",
    "\n",
    "folder_list = sorted(os.listdir(from_folder))\n",
    "for folder in folder_list:\n",
    "    try:\n",
    "        os.listdir(from_folder + folder + '/')\n",
    "    except:\n",
    "        continue\n",
    "        \n",
    "    # check the existance of folder\n",
    "    if not os.path.exists(to_folder + folder):\n",
    "        os.mkdir(to_folder + folder)\n",
    "        \n",
    "    # load image paths\n",
    "    image_list = os.listdir(from_folder + folder + '/')\n",
    "    for image_name in image_list:\n",
    "        from_path = from_folder + folder + '/' + image_name\n",
    "        to_path = to_folder + folder + '/' + image_name\n",
    "        image = read_image(from_path)\n",
    "        \n",
    "        # face detection\n",
    "        try:\n",
    "            faces = cascade_detector(image, xml=haar_xml, scale_factor=1.3, \n",
    "                                     min_neighbors=5)\n",
    "        except:\n",
    "            vgg2_train_error_paths.append(from_path)\n",
    "            continue\n",
    "        \n",
    "        # crop face areas\n",
    "        crop = crop_face(image, faces, scale_factor=1.3, target_size=(256, 256))\n",
    "        crop_rgb = BGR2RGB(crop)\n",
    "        \n",
    "        # save image\n",
    "        io.imsave(to_path, crop_rgb)\n",
    "        vgg2_train_paths.append(to_path)\n",
    "        vgg2_train_names.append(folder)"
   ]
  },
  {
   "cell_type": "code",
   "execution_count": 21,
   "metadata": {},
   "outputs": [
    {
     "name": "stdout",
     "output_type": "stream",
     "text": [
      "Correct images:\t 2113881\n",
      "Error images:\t 1028009\n"
     ]
    }
   ],
   "source": [
    "# save results\n",
    "np.save('./images/vgg2_train_error.npy', vgg2_train_error_paths)\n",
    "\n",
    "maps = {'name': vgg2_train_names, 'path': vgg2_train_paths}\n",
    "vgg2_train_df = pd.DataFrame(maps, columns=['name', 'path'])\n",
    "vgg2_train_df.to_csv('./images/vgg2_train_path.csv', index=False)\n",
    "\n",
    "print('Correct images:\\t', len(vgg2_train_df))\n",
    "print('Error images:\\t', len(vgg2_train_error_paths))"
   ]
  },
  {
   "cell_type": "code",
   "execution_count": 16,
   "metadata": {},
   "outputs": [],
   "source": [
    "# VGG2 test set\n",
    "haar_xml='./face_verification/xmls/haarcascade_frontalface_default.xml'\n",
    "from_folder = './images/vgg2/test/'\n",
    "to_folder = './images/vgg2_face/test/'\n",
    "\n",
    "vgg2_test_paths = []\n",
    "vgg2_test_names = []\n",
    "vgg2_test_error_paths = []\n",
    "\n",
    "folder_list = sorted(os.listdir(from_folder))\n",
    "for folder in folder_list:\n",
    "    try:\n",
    "        os.listdir(from_folder + folder + '/')\n",
    "    except:\n",
    "        continue\n",
    "        \n",
    "    # check the existance of folder\n",
    "    if not os.path.exists(to_folder + folder):\n",
    "        os.mkdir(to_folder + folder)\n",
    "        \n",
    "    # load image paths\n",
    "    image_list = os.listdir(from_folder + folder + '/')\n",
    "    for image_name in image_list:\n",
    "        from_path = from_folder + folder + '/' + image_name\n",
    "        to_path = to_folder + folder + '/' + image_name\n",
    "        image = read_image(from_path)\n",
    "        \n",
    "        # face detection\n",
    "        try:\n",
    "            faces = cascade_detector(image, xml=haar_xml, scale_factor=1.3, \n",
    "                                     min_neighbors=5)\n",
    "        except:\n",
    "            vgg2_test_error_paths.append(from_path)\n",
    "            continue\n",
    "        \n",
    "        # crop face areas\n",
    "        crop = crop_face(image, faces, scale_factor=1.3, target_size=(256, 256))\n",
    "        crop_rgb = BGR2RGB(crop)\n",
    "        \n",
    "        # save image\n",
    "        io.imsave(to_path, crop_rgb)\n",
    "        vgg2_test_paths.append(to_path)\n",
    "        vgg2_test_names.append(folder)"
   ]
  },
  {
   "cell_type": "code",
   "execution_count": 19,
   "metadata": {},
   "outputs": [
    {
     "name": "stdout",
     "output_type": "stream",
     "text": [
      "Correct images:\t 116568\n",
      "Error images:\t 52828\n"
     ]
    }
   ],
   "source": [
    "# save results\n",
    "np.save('./images/vgg2_test_error.npy', vgg2_test_error_paths)\n",
    "\n",
    "maps = {'name': vgg2_test_names, 'path': vgg2_test_paths}\n",
    "vgg2_test_df = pd.DataFrame(maps, columns=['name', 'path'])\n",
    "vgg2_test_df.to_csv('./images/vgg2_test_path.csv', index=False)\n",
    "\n",
    "print('Correct images:\\t', len(vgg2_test_df))\n",
    "print('Error images:\\t', len(vgg2_test_error_paths))"
   ]
  },
  {
   "cell_type": "code",
   "execution_count": null,
   "metadata": {},
   "outputs": [],
   "source": []
  }
 ],
 "metadata": {
  "kernelspec": {
   "display_name": "Python 3",
   "language": "python",
   "name": "python3"
  },
  "language_info": {
   "codemirror_mode": {
    "name": "ipython",
    "version": 3
   },
   "file_extension": ".py",
   "mimetype": "text/x-python",
   "name": "python",
   "nbconvert_exporter": "python",
   "pygments_lexer": "ipython3",
   "version": "3.6.3"
  }
 },
 "nbformat": 4,
 "nbformat_minor": 2
}
