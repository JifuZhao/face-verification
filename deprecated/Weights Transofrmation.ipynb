{
 "cells": [
  {
   "cell_type": "code",
   "execution_count": null,
   "metadata": {},
   "outputs": [],
   "source": [
    "from face_verification.facenet import basenet\n",
    "from face_verification.facenet import triplet_net\n",
    "from face_verification.facenet import triplet_loss"
   ]
  },
  {
   "cell_type": "code",
   "execution_count": null,
   "metadata": {},
   "outputs": [],
   "source": [
    "def load_weights():\n",
    "  weightsDir = './weights'\n",
    "  fileNames = filter(lambda f: not f.startswith('.'), os.listdir(weightsDir))\n",
    "  paths = {}\n",
    "  weights_dict = {}\n",
    "\n",
    "  for n in fileNames:\n",
    "    paths[n.replace('.csv', '')] = weightsDir + '/' + n\n",
    "\n",
    "  for name in weights:\n",
    "    if 'conv' in name:\n",
    "      conv_w = genfromtxt(paths[name + '_w'], delimiter=',', dtype=None)\n",
    "      conv_w = np.reshape(conv_w, conv_shape[name])\n",
    "      conv_w = np.transpose(conv_w, (2, 3, 1, 0))\n",
    "      conv_b = genfromtxt(paths[name + '_b'], delimiter=',', dtype=None)\n",
    "      weights_dict[name] = [conv_w, conv_b]     \n",
    "    elif 'bn' in name:\n",
    "      bn_w = genfromtxt(paths[name + '_w'], delimiter=',', dtype=None)\n",
    "      bn_b = genfromtxt(paths[name + '_b'], delimiter=',', dtype=None)\n",
    "      bn_m = genfromtxt(paths[name + '_m'], delimiter=',', dtype=None)\n",
    "      bn_v = genfromtxt(paths[name + '_v'], delimiter=',', dtype=None)\n",
    "      weights_dict[name] = [bn_w, bn_b, bn_m, bn_v]\n",
    "    elif 'dense' in name:\n",
    "      dense_w = genfromtxt(weightsDir+'/dense_w.csv', delimiter=',', dtype=None)\n",
    "      dense_w = np.reshape(dense_w, (128, 736))\n",
    "      dense_w = np.transpose(dense_w, (1, 0))\n",
    "      dense_b = genfromtxt(weightsDir+'/dense_b.csv', delimiter=',', dtype=None)\n",
    "      weights_dict[name] = [dense_w, dense_b]\n",
    "\n",
    "  return weights_dict"
   ]
  }
 ],
 "metadata": {
  "kernelspec": {
   "display_name": "Environment (conda_tensorflow_p36)",
   "language": "python",
   "name": "conda_tensorflow_p36"
  },
  "language_info": {
   "codemirror_mode": {
    "name": "ipython",
    "version": 3
   },
   "file_extension": ".py",
   "mimetype": "text/x-python",
   "name": "python",
   "nbconvert_exporter": "python",
   "pygments_lexer": "ipython3",
   "version": "3.6.4"
  }
 },
 "nbformat": 4,
 "nbformat_minor": 2
}
